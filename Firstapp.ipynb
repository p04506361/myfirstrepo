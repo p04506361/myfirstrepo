{
 "cells": [
  {
   "cell_type": "code",
   "execution_count": null,
   "metadata": {},
   "outputs": [],
   "source": [
    "print(\"Love\")"
   ]
  },
  {
   "cell_type": "code",
   "execution_count": null,
   "metadata": {},
   "outputs": [],
   "source": [
    "print(\"Hello Jupyter\")"
   ]
  },
  {
   "cell_type": "code",
   "execution_count": null,
   "metadata": {},
   "outputs": [],
   "source": [
    "print(\"hi\")\n",
    "print(\"this is first\")\n",
    "print(\"line of python\")"
   ]
  },
  {
   "cell_type": "code",
   "execution_count": 3,
   "metadata": {},
   "outputs": [
    {
     "name": "stdout",
     "output_type": "stream",
     "text": [
      "['False', 'None', 'True', 'and', 'as', 'assert', 'async', 'await', 'break', 'class', 'continue', 'def', 'del', 'elif', 'else', 'except', 'finally', 'for', 'from', 'global', 'if', 'import', 'in', 'is', 'lambda', 'nonlocal', 'not', 'or', 'pass', 'raise', 'return', 'try', 'while', 'with', 'yield']\n",
      "\n",
      "Total no of Keywords:  35\n"
     ]
    }
   ],
   "source": [
    "import keyword\n",
    "print(keyword.kwlist)\n",
    "print(\"\\nTotal no of Keywords: \", len(keyword.kwlist))"
   ]
  },
  {
   "cell_type": "code",
   "execution_count": null,
   "metadata": {},
   "outputs": [],
   "source": [
    "\n",
    "for i in range(10):\n",
    "    \n",
    "    print(i)"
   ]
  },
  {
   "cell_type": "code",
   "execution_count": null,
   "metadata": {},
   "outputs": [],
   "source": [
    "x = 3\n",
    "print(id(x))"
   ]
  },
  {
   "cell_type": "code",
   "execution_count": null,
   "metadata": {},
   "outputs": [],
   "source": [
    "y = 3\n",
    "z = 2.5\n",
    "print(id(y))\n",
    "\n",
    "print(\"data type of Y is \", type(y))\n",
    "print(\"data type of Z is \", type(z))"
   ]
  },
  {
   "cell_type": "code",
   "execution_count": 6,
   "metadata": {},
   "outputs": [
    {
     "name": "stdout",
     "output_type": "stream",
     "text": [
      "(1+2j)\n",
      "data type of A is  <class 'complex'>\n",
      "True\n"
     ]
    }
   ],
   "source": [
    "a = 1+2j\n",
    "print(a)\n",
    "print(\"data type of A is \", type(a))\n",
    "\n",
    "print (isinstance(1+2j,complex))"
   ]
  },
  {
   "cell_type": "code",
   "execution_count": 7,
   "metadata": {},
   "outputs": [
    {
     "name": "stdout",
     "output_type": "stream",
     "text": [
      "This is online AI Course\n",
      "<class 'str'>\n",
      " This is online\n",
      "AI Course\n",
      "<class 'str'>\n"
     ]
    }
   ],
   "source": [
    "# strings eg.\n",
    "\n",
    "s = \"This is online AI Course\"\n",
    "print(s)\n",
    "print(type(s))\n",
    "\n",
    "\n",
    "s = \"\"\" This is online\n",
    "AI Course\"\"\"\n",
    "\n",
    "print(s)\n",
    "\n",
    "print(type(s))"
   ]
  },
  {
   "cell_type": "code",
   "execution_count": null,
   "metadata": {},
   "outputs": [],
   "source": [
    "print(s[0])"
   ]
  },
  {
   "cell_type": "code",
   "execution_count": null,
   "metadata": {},
   "outputs": [],
   "source": [
    "print(len(s))"
   ]
  },
  {
   "cell_type": "code",
   "execution_count": null,
   "metadata": {},
   "outputs": [],
   "source": [
    "print(s[-1])"
   ]
  },
  {
   "cell_type": "code",
   "execution_count": 11,
   "metadata": {},
   "outputs": [
    {
     "name": "stdout",
     "output_type": "stream",
     "text": [
      "25\n",
      "e\n",
      "e\n"
     ]
    }
   ],
   "source": [
    "print(len(s))\n",
    "print(s[24])\n",
    "print(s[len(s)-1])"
   ]
  },
  {
   "cell_type": "code",
   "execution_count": null,
   "metadata": {},
   "outputs": [],
   "source": [
    "#slicing string\n",
    "s[5:]"
   ]
  },
  {
   "cell_type": "code",
   "execution_count": null,
   "metadata": {},
   "outputs": [],
   "source": [
    "s[5:11]"
   ]
  },
  {
   "cell_type": "code",
   "execution_count": null,
   "metadata": {},
   "outputs": [],
   "source": [
    "a = 10\n",
    "print(\"value of a is : \",a)\n",
    "print(\"value of a is : \"+ str(a))\n",
    "print(\"value of a is : \",a,\"Wlecome\")"
   ]
  },
  {
   "cell_type": "code",
   "execution_count": null,
   "metadata": {},
   "outputs": [],
   "source": [
    "a = 10; b = 20\n",
    "print(\"vlaue of a is {} and b is {}\".format(a,b))\n",
    "\n",
    "print (\"\\nNext version using index \")\n",
    "\n",
    "print(\"value of b is {1} and a is {0} \".format(a,b))\n",
    "\n",
    "\n",
    "# using keywords \n",
    "print (\"\\nNext version using Keywords \")\n",
    "\n",
    "print(\"Hello {name},{greeting}\".format(name = \"Paresh\",greeting = \"Good Morning !\"))\n",
    "\n",
    "# using combination of index and keyword\n",
    "print (\"\\nNext version using combination of index n Keywords \")\n",
    "\n",
    "print(\"The story of {0}, {other} and {1}\".format(\"Bill\",\"Manfred\",other = \"Geroge\"))\n"
   ]
  },
  {
   "cell_type": "code",
   "execution_count": null,
   "metadata": {},
   "outputs": [],
   "source": [
    "num = input(\"Enter a number: \")\n",
    "print(num)"
   ]
  },
  {
   "cell_type": "code",
   "execution_count": null,
   "metadata": {},
   "outputs": [],
   "source": []
  },
  {
   "cell_type": "code",
   "execution_count": null,
   "metadata": {},
   "outputs": [],
   "source": []
  },
  {
   "cell_type": "code",
   "execution_count": null,
   "metadata": {},
   "outputs": [],
   "source": []
  },
  {
   "cell_type": "code",
   "execution_count": null,
   "metadata": {},
   "outputs": [],
   "source": []
  },
  {
   "cell_type": "code",
   "execution_count": null,
   "metadata": {},
   "outputs": [],
   "source": []
  }
 ],
 "metadata": {
  "kernelspec": {
   "display_name": "Python 3",
   "language": "python",
   "name": "python3"
  },
  "language_info": {
   "codemirror_mode": {
    "name": "ipython",
    "version": 3
   },
   "file_extension": ".py",
   "mimetype": "text/x-python",
   "name": "python",
   "nbconvert_exporter": "python",
   "pygments_lexer": "ipython3",
   "version": "3.7.6"
  }
 },
 "nbformat": 4,
 "nbformat_minor": 4
}
